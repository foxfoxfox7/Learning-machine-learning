{
 "cells": [
  {
   "cell_type": "code",
   "execution_count": 1,
   "metadata": {},
   "outputs": [],
   "source": [
    "import time\n",
    "import numpy as np\n",
    "import pandas as pd\n",
    "import matplotlib.pyplot as plt\n",
    "import seaborn as sns\n",
    "from scipy import stats\n",
    "from scipy.stats.distributions import chi2\n",
    "\n",
    "import warnings\n",
    "warnings.filterwarnings('ignore')"
   ]
  },
  {
   "cell_type": "markdown",
   "metadata": {},
   "source": [
    "# Exploratory data analysis"
   ]
  },
  {
   "cell_type": "code",
   "execution_count": 2,
   "metadata": {},
   "outputs": [
    {
     "name": "stdout",
     "output_type": "stream",
     "text": [
      "<class 'pandas.core.frame.DataFrame'>\n",
      "RangeIndex: 110527 entries, 0 to 110526\n",
      "Data columns (total 14 columns):\n",
      " #   Column          Non-Null Count   Dtype              \n",
      "---  ------          --------------   -----              \n",
      " 0   PatientId       110527 non-null  float64            \n",
      " 1   AppointmentID   110527 non-null  int64              \n",
      " 2   Gender          110527 non-null  object             \n",
      " 3   ScheduledDay    110527 non-null  datetime64[ns, UTC]\n",
      " 4   AppointmentDay  110527 non-null  datetime64[ns, UTC]\n",
      " 5   Age             110527 non-null  int64              \n",
      " 6   Neighbourhood   110527 non-null  object             \n",
      " 7   Scholarship     110527 non-null  int64              \n",
      " 8   Hipertension    110527 non-null  int64              \n",
      " 9   Diabetes        110527 non-null  int64              \n",
      " 10  Alcoholism      110527 non-null  int64              \n",
      " 11  Handcap         110527 non-null  int64              \n",
      " 12  SMS_received    110527 non-null  int64              \n",
      " 13  No-show         110527 non-null  object             \n",
      "dtypes: datetime64[ns, UTC](2), float64(1), int64(8), object(3)\n",
      "memory usage: 11.8+ MB\n"
     ]
    },
    {
     "data": {
      "text/html": [
       "<div>\n",
       "<style scoped>\n",
       "    .dataframe tbody tr th:only-of-type {\n",
       "        vertical-align: middle;\n",
       "    }\n",
       "\n",
       "    .dataframe tbody tr th {\n",
       "        vertical-align: top;\n",
       "    }\n",
       "\n",
       "    .dataframe thead th {\n",
       "        text-align: right;\n",
       "    }\n",
       "</style>\n",
       "<table border=\"1\" class=\"dataframe\">\n",
       "  <thead>\n",
       "    <tr style=\"text-align: right;\">\n",
       "      <th></th>\n",
       "      <th>PatientId</th>\n",
       "      <th>AppointmentID</th>\n",
       "      <th>Gender</th>\n",
       "      <th>ScheduledDay</th>\n",
       "      <th>AppointmentDay</th>\n",
       "      <th>Age</th>\n",
       "      <th>Neighbourhood</th>\n",
       "      <th>Scholarship</th>\n",
       "      <th>Hipertension</th>\n",
       "      <th>Diabetes</th>\n",
       "      <th>Alcoholism</th>\n",
       "      <th>Handcap</th>\n",
       "      <th>SMS_received</th>\n",
       "      <th>No-show</th>\n",
       "    </tr>\n",
       "  </thead>\n",
       "  <tbody>\n",
       "    <tr>\n",
       "      <th>0</th>\n",
       "      <td>2.987250e+13</td>\n",
       "      <td>5642903</td>\n",
       "      <td>F</td>\n",
       "      <td>2016-04-29 18:38:08+00:00</td>\n",
       "      <td>2016-04-29 00:00:00+00:00</td>\n",
       "      <td>62</td>\n",
       "      <td>JARDIM DA PENHA</td>\n",
       "      <td>0</td>\n",
       "      <td>1</td>\n",
       "      <td>0</td>\n",
       "      <td>0</td>\n",
       "      <td>0</td>\n",
       "      <td>0</td>\n",
       "      <td>No</td>\n",
       "    </tr>\n",
       "    <tr>\n",
       "      <th>1</th>\n",
       "      <td>5.589978e+14</td>\n",
       "      <td>5642503</td>\n",
       "      <td>M</td>\n",
       "      <td>2016-04-29 16:08:27+00:00</td>\n",
       "      <td>2016-04-29 00:00:00+00:00</td>\n",
       "      <td>56</td>\n",
       "      <td>JARDIM DA PENHA</td>\n",
       "      <td>0</td>\n",
       "      <td>0</td>\n",
       "      <td>0</td>\n",
       "      <td>0</td>\n",
       "      <td>0</td>\n",
       "      <td>0</td>\n",
       "      <td>No</td>\n",
       "    </tr>\n",
       "    <tr>\n",
       "      <th>2</th>\n",
       "      <td>4.262962e+12</td>\n",
       "      <td>5642549</td>\n",
       "      <td>F</td>\n",
       "      <td>2016-04-29 16:19:04+00:00</td>\n",
       "      <td>2016-04-29 00:00:00+00:00</td>\n",
       "      <td>62</td>\n",
       "      <td>MATA DA PRAIA</td>\n",
       "      <td>0</td>\n",
       "      <td>0</td>\n",
       "      <td>0</td>\n",
       "      <td>0</td>\n",
       "      <td>0</td>\n",
       "      <td>0</td>\n",
       "      <td>No</td>\n",
       "    </tr>\n",
       "    <tr>\n",
       "      <th>3</th>\n",
       "      <td>8.679512e+11</td>\n",
       "      <td>5642828</td>\n",
       "      <td>F</td>\n",
       "      <td>2016-04-29 17:29:31+00:00</td>\n",
       "      <td>2016-04-29 00:00:00+00:00</td>\n",
       "      <td>8</td>\n",
       "      <td>PONTAL DE CAMBURI</td>\n",
       "      <td>0</td>\n",
       "      <td>0</td>\n",
       "      <td>0</td>\n",
       "      <td>0</td>\n",
       "      <td>0</td>\n",
       "      <td>0</td>\n",
       "      <td>No</td>\n",
       "    </tr>\n",
       "    <tr>\n",
       "      <th>4</th>\n",
       "      <td>8.841186e+12</td>\n",
       "      <td>5642494</td>\n",
       "      <td>F</td>\n",
       "      <td>2016-04-29 16:07:23+00:00</td>\n",
       "      <td>2016-04-29 00:00:00+00:00</td>\n",
       "      <td>56</td>\n",
       "      <td>JARDIM DA PENHA</td>\n",
       "      <td>0</td>\n",
       "      <td>1</td>\n",
       "      <td>1</td>\n",
       "      <td>0</td>\n",
       "      <td>0</td>\n",
       "      <td>0</td>\n",
       "      <td>No</td>\n",
       "    </tr>\n",
       "  </tbody>\n",
       "</table>\n",
       "</div>"
      ],
      "text/plain": [
       "      PatientId  AppointmentID Gender              ScheduledDay  \\\n",
       "0  2.987250e+13        5642903      F 2016-04-29 18:38:08+00:00   \n",
       "1  5.589978e+14        5642503      M 2016-04-29 16:08:27+00:00   \n",
       "2  4.262962e+12        5642549      F 2016-04-29 16:19:04+00:00   \n",
       "3  8.679512e+11        5642828      F 2016-04-29 17:29:31+00:00   \n",
       "4  8.841186e+12        5642494      F 2016-04-29 16:07:23+00:00   \n",
       "\n",
       "             AppointmentDay  Age      Neighbourhood  Scholarship  \\\n",
       "0 2016-04-29 00:00:00+00:00   62    JARDIM DA PENHA            0   \n",
       "1 2016-04-29 00:00:00+00:00   56    JARDIM DA PENHA            0   \n",
       "2 2016-04-29 00:00:00+00:00   62      MATA DA PRAIA            0   \n",
       "3 2016-04-29 00:00:00+00:00    8  PONTAL DE CAMBURI            0   \n",
       "4 2016-04-29 00:00:00+00:00   56    JARDIM DA PENHA            0   \n",
       "\n",
       "   Hipertension  Diabetes  Alcoholism  Handcap  SMS_received No-show  \n",
       "0             1         0           0        0             0      No  \n",
       "1             0         0           0        0             0      No  \n",
       "2             0         0           0        0             0      No  \n",
       "3             0         0           0        0             0      No  \n",
       "4             1         1           0        0             0      No  "
      ]
     },
     "execution_count": 2,
     "metadata": {},
     "output_type": "execute_result"
    }
   ],
   "source": [
    "df = pd.read_csv('medical_no_show.csv', parse_dates=[3,4])\n",
    "df.info()\n",
    "df.head()"
   ]
  },
  {
   "cell_type": "code",
   "execution_count": 3,
   "metadata": {},
   "outputs": [
    {
     "name": "stdout",
     "output_type": "stream",
     "text": [
      "<class 'pandas.core.frame.DataFrame'>\n",
      "Int64Index: 110527 entries, 5642903 to 5629448\n",
      "Data columns (total 13 columns):\n",
      " #   Column         Non-Null Count   Dtype              \n",
      "---  ------         --------------   -----              \n",
      " 0   PatientId      110527 non-null  float64            \n",
      " 1   Gender         110527 non-null  int64              \n",
      " 2   AppointMade    110527 non-null  datetime64[ns, UTC]\n",
      " 3   AppointFor     110527 non-null  datetime64[ns, UTC]\n",
      " 4   Age            110527 non-null  int64              \n",
      " 5   Neighbourhood  110527 non-null  object             \n",
      " 6   Scholarship    110527 non-null  int64              \n",
      " 7   Hypertension   110527 non-null  int64              \n",
      " 8   Diabetes       110527 non-null  int64              \n",
      " 9   Alcoholism     110527 non-null  int64              \n",
      " 10  Handicap       110527 non-null  int64              \n",
      " 11  SMS_received   110527 non-null  int64              \n",
      " 12  No-show        110527 non-null  object             \n",
      "dtypes: datetime64[ns, UTC](2), float64(1), int64(8), object(2)\n",
      "memory usage: 11.8+ MB\n",
      "None\n",
      "0.20193255946510807\n"
     ]
    }
   ],
   "source": [
    "df.rename(columns = {'Hipertension': 'Hypertension',\n",
    "                         'Handcap': 'Handicap',\n",
    "                        'ScheduledDay': 'AppointMade',\n",
    "                        'AppointmentDay': 'AppointFor'}, inplace = True)\n",
    "\n",
    "df.set_index('AppointmentID', inplace=True)\n",
    "#df['AppointMade'] = df['AppointMade'].values.astype('datetime64[D]')\n",
    "#df['AppointFor'] = df['AppointFor'].values.astype('datetime64[D]')\n",
    "df['Gender'].replace(('M', 'F'), (1, 0), inplace=True)\n",
    "\n",
    "print(df.info())\n",
    "\n",
    "dummies = pd.get_dummies(df['No-show'])\n",
    "df = pd.concat((df, dummies), axis = 1)\n",
    "\n",
    "noshow_prob = df.Yes.sum() / (df.Yes.sum() + df.No.sum())\n",
    "print(noshow_prob)"
   ]
  },
  {
   "cell_type": "code",
   "execution_count": 4,
   "metadata": {},
   "outputs": [
    {
     "data": {
      "text/html": [
       "<div>\n",
       "<style scoped>\n",
       "    .dataframe tbody tr th:only-of-type {\n",
       "        vertical-align: middle;\n",
       "    }\n",
       "\n",
       "    .dataframe tbody tr th {\n",
       "        vertical-align: top;\n",
       "    }\n",
       "\n",
       "    .dataframe thead th {\n",
       "        text-align: right;\n",
       "    }\n",
       "</style>\n",
       "<table border=\"1\" class=\"dataframe\">\n",
       "  <thead>\n",
       "    <tr style=\"text-align: right;\">\n",
       "      <th></th>\n",
       "      <th>PatientId</th>\n",
       "      <th>Gender</th>\n",
       "      <th>Age</th>\n",
       "      <th>Scholarship</th>\n",
       "      <th>Hypertension</th>\n",
       "      <th>Diabetes</th>\n",
       "      <th>Alcoholism</th>\n",
       "      <th>Handicap</th>\n",
       "      <th>SMS_received</th>\n",
       "      <th>No</th>\n",
       "      <th>Yes</th>\n",
       "    </tr>\n",
       "  </thead>\n",
       "  <tbody>\n",
       "    <tr>\n",
       "      <th>count</th>\n",
       "      <td>1.105270e+05</td>\n",
       "      <td>110527.000000</td>\n",
       "      <td>110527.000000</td>\n",
       "      <td>110527.000000</td>\n",
       "      <td>110527.000000</td>\n",
       "      <td>110527.000000</td>\n",
       "      <td>110527.000000</td>\n",
       "      <td>110527.000000</td>\n",
       "      <td>110527.000000</td>\n",
       "      <td>110527.000000</td>\n",
       "      <td>110527.000000</td>\n",
       "    </tr>\n",
       "    <tr>\n",
       "      <th>mean</th>\n",
       "      <td>1.474963e+14</td>\n",
       "      <td>0.350023</td>\n",
       "      <td>37.088874</td>\n",
       "      <td>0.098266</td>\n",
       "      <td>0.197246</td>\n",
       "      <td>0.071865</td>\n",
       "      <td>0.030400</td>\n",
       "      <td>0.022248</td>\n",
       "      <td>0.321026</td>\n",
       "      <td>0.798067</td>\n",
       "      <td>0.201933</td>\n",
       "    </tr>\n",
       "    <tr>\n",
       "      <th>std</th>\n",
       "      <td>2.560949e+14</td>\n",
       "      <td>0.476979</td>\n",
       "      <td>23.110205</td>\n",
       "      <td>0.297675</td>\n",
       "      <td>0.397921</td>\n",
       "      <td>0.258265</td>\n",
       "      <td>0.171686</td>\n",
       "      <td>0.161543</td>\n",
       "      <td>0.466873</td>\n",
       "      <td>0.401444</td>\n",
       "      <td>0.401444</td>\n",
       "    </tr>\n",
       "    <tr>\n",
       "      <th>min</th>\n",
       "      <td>3.921784e+04</td>\n",
       "      <td>0.000000</td>\n",
       "      <td>-1.000000</td>\n",
       "      <td>0.000000</td>\n",
       "      <td>0.000000</td>\n",
       "      <td>0.000000</td>\n",
       "      <td>0.000000</td>\n",
       "      <td>0.000000</td>\n",
       "      <td>0.000000</td>\n",
       "      <td>0.000000</td>\n",
       "      <td>0.000000</td>\n",
       "    </tr>\n",
       "    <tr>\n",
       "      <th>25%</th>\n",
       "      <td>4.172614e+12</td>\n",
       "      <td>0.000000</td>\n",
       "      <td>18.000000</td>\n",
       "      <td>0.000000</td>\n",
       "      <td>0.000000</td>\n",
       "      <td>0.000000</td>\n",
       "      <td>0.000000</td>\n",
       "      <td>0.000000</td>\n",
       "      <td>0.000000</td>\n",
       "      <td>1.000000</td>\n",
       "      <td>0.000000</td>\n",
       "    </tr>\n",
       "    <tr>\n",
       "      <th>50%</th>\n",
       "      <td>3.173184e+13</td>\n",
       "      <td>0.000000</td>\n",
       "      <td>37.000000</td>\n",
       "      <td>0.000000</td>\n",
       "      <td>0.000000</td>\n",
       "      <td>0.000000</td>\n",
       "      <td>0.000000</td>\n",
       "      <td>0.000000</td>\n",
       "      <td>0.000000</td>\n",
       "      <td>1.000000</td>\n",
       "      <td>0.000000</td>\n",
       "    </tr>\n",
       "    <tr>\n",
       "      <th>75%</th>\n",
       "      <td>9.439172e+13</td>\n",
       "      <td>1.000000</td>\n",
       "      <td>55.000000</td>\n",
       "      <td>0.000000</td>\n",
       "      <td>0.000000</td>\n",
       "      <td>0.000000</td>\n",
       "      <td>0.000000</td>\n",
       "      <td>0.000000</td>\n",
       "      <td>1.000000</td>\n",
       "      <td>1.000000</td>\n",
       "      <td>0.000000</td>\n",
       "    </tr>\n",
       "    <tr>\n",
       "      <th>max</th>\n",
       "      <td>9.999816e+14</td>\n",
       "      <td>1.000000</td>\n",
       "      <td>115.000000</td>\n",
       "      <td>1.000000</td>\n",
       "      <td>1.000000</td>\n",
       "      <td>1.000000</td>\n",
       "      <td>1.000000</td>\n",
       "      <td>4.000000</td>\n",
       "      <td>1.000000</td>\n",
       "      <td>1.000000</td>\n",
       "      <td>1.000000</td>\n",
       "    </tr>\n",
       "  </tbody>\n",
       "</table>\n",
       "</div>"
      ],
      "text/plain": [
       "          PatientId         Gender            Age    Scholarship  \\\n",
       "count  1.105270e+05  110527.000000  110527.000000  110527.000000   \n",
       "mean   1.474963e+14       0.350023      37.088874       0.098266   \n",
       "std    2.560949e+14       0.476979      23.110205       0.297675   \n",
       "min    3.921784e+04       0.000000      -1.000000       0.000000   \n",
       "25%    4.172614e+12       0.000000      18.000000       0.000000   \n",
       "50%    3.173184e+13       0.000000      37.000000       0.000000   \n",
       "75%    9.439172e+13       1.000000      55.000000       0.000000   \n",
       "max    9.999816e+14       1.000000     115.000000       1.000000   \n",
       "\n",
       "        Hypertension       Diabetes     Alcoholism       Handicap  \\\n",
       "count  110527.000000  110527.000000  110527.000000  110527.000000   \n",
       "mean        0.197246       0.071865       0.030400       0.022248   \n",
       "std         0.397921       0.258265       0.171686       0.161543   \n",
       "min         0.000000       0.000000       0.000000       0.000000   \n",
       "25%         0.000000       0.000000       0.000000       0.000000   \n",
       "50%         0.000000       0.000000       0.000000       0.000000   \n",
       "75%         0.000000       0.000000       0.000000       0.000000   \n",
       "max         1.000000       1.000000       1.000000       4.000000   \n",
       "\n",
       "        SMS_received             No            Yes  \n",
       "count  110527.000000  110527.000000  110527.000000  \n",
       "mean        0.321026       0.798067       0.201933  \n",
       "std         0.466873       0.401444       0.401444  \n",
       "min         0.000000       0.000000       0.000000  \n",
       "25%         0.000000       1.000000       0.000000  \n",
       "50%         0.000000       1.000000       0.000000  \n",
       "75%         1.000000       1.000000       0.000000  \n",
       "max         1.000000       1.000000       1.000000  "
      ]
     },
     "execution_count": 4,
     "metadata": {},
     "output_type": "execute_result"
    }
   ],
   "source": [
    "df.describe()"
   ]
  },
  {
   "cell_type": "markdown",
   "metadata": {},
   "source": [
    "The minimum age is -1 and the maximum is 115. The maximum being that high probably means there are a number of ages with very little sample size so we will likely put the age feature into bins at a later point. But for now lets remove and ages below 0"
   ]
  },
  {
   "cell_type": "markdown",
   "metadata": {},
   "source": [
    "### Age"
   ]
  },
  {
   "cell_type": "code",
   "execution_count": 5,
   "metadata": {},
   "outputs": [
    {
     "name": "stdout",
     "output_type": "stream",
     "text": [
      "Age\n",
      "0      3539\n",
      "1      2273\n",
      "2      1618\n",
      "3      1513\n",
      "4      1299\n",
      "       ... \n",
      "98        6\n",
      "99        1\n",
      "100       4\n",
      "102       2\n",
      "115       5\n",
      "Name: PatientId, Length: 103, dtype: int64\n"
     ]
    },
    {
     "data": {
      "image/png": "[encoded data removed]",
      "text/plain": [
       "<Figure size 432x288 with 1 Axes>"
      ]
     },
     "metadata": {
      "needs_background": "light"
     },
     "output_type": "display_data"
    }
   ],
   "source": [
    "df = df.loc[df['Age'] >= 0]\n",
    "print(df.groupby('Age')['PatientId'].count())\n",
    "\n",
    "df['Age'].hist(bins = 15)\n",
    "plt.show()"
   ]
  },
  {
   "cell_type": "code",
   "execution_count": 6,
   "metadata": {},
   "outputs": [
    {
     "data": {
      "image/png": "[encoded data removed]",
      "text/plain": [
       "<Figure size 432x288 with 1 Axes>"
      ]
     },
     "metadata": {
      "needs_background": "light"
     },
     "output_type": "display_data"
    }
   ],
   "source": [
    "df_age = pd.concat([df.groupby('Age')['No'].sum(), df.groupby('Age')['Yes'].sum()], axis=1)\n",
    "df_age['Probability of no-show'] = df_age['Yes'] / (df_age['No'] + df_age['Yes'])\n",
    "df_age.reset_index(inplace=True)\n",
    "df_age.head()\n",
    "df_age.plot(kind='scatter', x='Age', y='Probability of no-show')\n",
    "plt.axhline(noshow_prob, c='r', label='Overall probability')\n",
    "plt.legend()\n",
    "plt.show()"
   ]
  },
  {
   "cell_type": "code",
   "execution_count": 7,
   "metadata": {},
   "outputs": [
    {
     "data": {
      "image/png": "[encoded data removed]",
      "text/plain": [
       "<Figure size 432x288 with 1 Axes>"
      ]
     },
     "metadata": {
      "needs_background": "light"
     },
     "output_type": "display_data"
    }
   ],
   "source": [
    "max_age = 85\n",
    "df['Age'][df['Age'] >= max_age] = max_age\n",
    "\n",
    "df_age = pd.concat([df.groupby('Age')['No'].sum(), df.groupby('Age')['Yes'].sum()], axis=1)\n",
    "df_age['Probability of no-show'] = df_age['Yes'] / (df_age['No'] + df_age['Yes'])\n",
    "df_age.reset_index(inplace=True)\n",
    "df_age.head()\n",
    "df_age.plot(kind='scatter', x='Age', y='Probability of no-show')\n",
    "plt.axhline(noshow_prob, c='r', label='Overall probability')\n",
    "plt.legend()\n",
    "plt.show()\n",
    "\n",
    "#from scipy.stats import gaussian_kde\n",
    "\n",
    "#df_y = df[df['Yes'] == 1]\n",
    "#df_n = df[df['No'] == 1]\n",
    "\n",
    "#x_yes = df_n.Age.values\n",
    "#y_yes = df_n.Yes.values\n",
    "\n",
    "#y_yes = y_yes+0.00001*np.random.rand(len(y_yes))\n",
    "\n",
    "#Calculate the point density\n",
    "#xy = np.vstack([x_yes,y_yes])\n",
    "#z = gaussian_kde(xy)(xy)\n",
    "\n",
    "#fig, ax = plt.subplots()\n",
    "#ax.scatter(x_yes, y_yes, c=z, s=100, edgecolor='')\n",
    "#plt.ylim(-0.1, 1.1)\n",
    "#plt.show()"
   ]
  },
  {
   "cell_type": "markdown",
   "metadata": {},
   "source": [
    "It looks like there is a polynomial relationship with age and probability of showing up for a medical appointment. To me it looks like we would be better using polynomial terms rather than bins for the 'Age' feature and we just reduce all values above 85 down to 85. It is around 85 that there are too few data points per year to give accurate probabilities."
   ]
  },
  {
   "cell_type": "markdown",
   "metadata": {},
   "source": [
    "### Categorical features"
   ]
  },
  {
   "cell_type": "code",
   "execution_count": 8,
   "metadata": {},
   "outputs": [
    {
     "name": "stdout",
     "output_type": "stream",
     "text": [
      "Correlation for Handicap is -0.006076846582439237\n",
      "Correlation for handicap - 0 is 0.007281409275944209\n",
      "Correlation for handicap - 1 is -0.007757374294273439\n",
      "Correlation for handicap - 2 is 2.550375494778824e-05\n",
      "Correlation for handicap - 3 is 0.0007790371412119528\n",
      "Correlation for handicap - 4 is 0.0017053037239939887\n"
     ]
    },
    {
     "data": {
      "image/png": "[encoded data removed]",
      "text/plain": [
       "<Figure size 432x288 with 1 Axes>"
      ]
     },
     "metadata": {
      "needs_background": "light"
     },
     "output_type": "display_data"
    }
   ],
   "source": [
    "print('Correlation for Handicap is', df['Handicap'].corr(df['Yes']))\n",
    "\n",
    "dummies_hand = pd.get_dummies(df['Handicap'])\n",
    "for dum in dummies_hand.columns:\n",
    "    cor = dummies_hand[dum].corr(df['Yes'])\n",
    "    print(f'Correlation for handicap - {dum} is {cor}')\n",
    "    \n",
    "df_hand = pd.concat([df.groupby('Handicap')['No'].sum(), df.groupby('Handicap')['Yes'].sum()], axis=1)\n",
    "df_hand['Probability of no-show'] = df_hand['Yes'] / (df_hand['No'] + df_hand['Yes'])\n",
    "df_hand.reset_index(inplace=True)\n",
    "df_hand.head()\n",
    "df_hand.plot(kind='bar', x='Handicap', y='Probability of no-show')\n",
    "plt.axhline(noshow_prob, c='r', label='Overall probability')\n",
    "plt.legend()\n",
    "plt.show()"
   ]
  },
  {
   "cell_type": "markdown",
   "metadata": {},
   "source": [
    "There isn't an overall trend, so to keep this feature intact would not work for a linear relationship. Maybe the best way to look at the effect of handicap on no-show probability would be to only include dummy columns for handicap 1, 3 and 4."
   ]
  },
  {
   "cell_type": "code",
   "execution_count": 9,
   "metadata": {},
   "outputs": [
    {
     "data": {
      "image/png": "[encoded data removed]",
      "text/plain": [
       "<Figure size 864x288 with 1 Axes>"
      ]
     },
     "metadata": {
      "needs_background": "light"
     },
     "output_type": "display_data"
    }
   ],
   "source": [
    "binary_cats = ['Gender', 'Scholarship', 'Hypertension', 'Diabetes', 'Alcoholism']\n",
    "\n",
    "df_probs = pd.DataFrame()\n",
    "for cat in binary_cats:\n",
    "    probs = []\n",
    "    for unique in df[cat].unique():\n",
    "        probs.append(df[(df[cat] == unique) & (df['Yes'] == 1)].shape[0] / df[df[cat] == unique].shape[0])\n",
    "    df_probs[cat] = probs\n",
    "\n",
    "df_probs = df_probs.T\n",
    "df_probs2 = pd.melt(df_probs.reset_index(), id_vars='index')\n",
    "\n",
    "g = sns.factorplot(x='index', y=\"value\", hue=\"variable\", data=df_probs2, size=4,\n",
    "                     aspect=3, kind=\"bar\", legend=False)\n",
    "plt.show()"
   ]
  },
  {
   "cell_type": "markdown",
   "metadata": {},
   "source": []
  },
  {
   "cell_type": "code",
   "execution_count": 10,
   "metadata": {},
   "outputs": [
    {
     "data": {
      "image/png": "[encoded data removed]",
      "text/plain": [
       "<Figure size 1200x800 with 2 Axes>"
      ]
     },
     "metadata": {
      "needs_background": "light"
     },
     "output_type": "display_data"
    }
   ],
   "source": [
    "df.drop(['Gender', 'Alcoholism'], inplace=True, axis=1)\n",
    "\n",
    "# Creating a Pearson correlation matrix to visualise correlations between features\n",
    "corr_cats = ['Age', 'Scholarship', 'Hypertension', 'Diabetes', 'Handicap', 'SMS_received', 'Yes']\n",
    "df_corr = df.loc[:, corr_cats]\n",
    "corr = df_corr.corr()\n",
    "fig, ax = plt.subplots(dpi=200)\n",
    "sns.heatmap(corr, cmap = 'Wistia', annot= True, ax=ax, annot_kws={\"size\": 6})\n",
    "plt.show()"
   ]
  },
  {
   "cell_type": "markdown",
   "metadata": {},
   "source": [
    "There doesn't seem to be any parameters which have a strong correlation with showing up for an appointment. For many of these features, the correlation is stronger with age than with no-show. I would be wary of using these as parameters for the logistic regression. However, there is a clear correlation with receiving an SMS."
   ]
  },
  {
   "cell_type": "code",
   "execution_count": 11,
   "metadata": {},
   "outputs": [],
   "source": [
    "df.drop(['Scholarship', 'Hypertension', 'Diabetes'], inplace=True, axis = 1)"
   ]
  },
  {
   "cell_type": "markdown",
   "metadata": {},
   "source": [
    "### Neghbourhood"
   ]
  },
  {
   "cell_type": "code",
   "execution_count": 12,
   "metadata": {},
   "outputs": [
    {
     "name": "stdout",
     "output_type": "stream",
     "text": [
      "['JARDIM DA PENHA' 'MATA DA PRAIA' 'PONTAL DE CAMBURI' 'REPÚBLICA'\n",
      " 'GOIABEIRAS' 'ANDORINHAS' 'CONQUISTA' 'NOVA PALESTINA' 'DA PENHA'\n",
      " 'TABUAZEIRO' 'BENTO FERREIRA' 'SÃO PEDRO' 'SANTA MARTHA' 'SÃO CRISTÓVÃO'\n",
      " 'MARUÍPE' 'GRANDE VITÓRIA' 'SÃO BENEDITO' 'ILHA DAS CAIEIRAS'\n",
      " 'SANTO ANDRÉ' 'SOLON BORGES' 'BONFIM' 'JARDIM CAMBURI' 'MARIA ORTIZ'\n",
      " 'JABOUR' 'ANTÔNIO HONÓRIO' 'RESISTÊNCIA' 'ILHA DE SANTA MARIA'\n",
      " 'JUCUTUQUARA' 'MONTE BELO' 'MÁRIO CYPRESTE' 'SANTO ANTÔNIO' 'BELA VISTA'\n",
      " 'PRAIA DO SUÁ' 'SANTA HELENA' 'ITARARÉ' 'INHANGUETÁ' 'UNIVERSITÁRIO'\n",
      " 'SÃO JOSÉ' 'REDENÇÃO' 'SANTA CLARA' 'CENTRO' 'PARQUE MOSCOSO'\n",
      " 'DO MOSCOSO' 'SANTOS DUMONT' 'CARATOÍRA' 'ARIOVALDO FAVALESSA'\n",
      " 'ILHA DO FRADE' 'GURIGICA' 'JOANA D´ARC' 'CONSOLAÇÃO' 'PRAIA DO CANTO'\n",
      " 'BOA VISTA' 'MORADA DE CAMBURI' 'SANTA LUÍZA' 'SANTA LÚCIA'\n",
      " 'BARRO VERMELHO' 'ESTRELINHA' 'FORTE SÃO JOÃO' 'FONTE GRANDE'\n",
      " 'ENSEADA DO SUÁ' 'SANTOS REIS' 'PIEDADE' 'JESUS DE NAZARETH'\n",
      " 'SANTA TEREZA' 'CRUZAMENTO' 'ILHA DO PRÍNCIPE' 'ROMÃO' 'COMDUSA'\n",
      " 'SANTA CECÍLIA' 'VILA RUBIM' 'DE LOURDES' 'DO QUADRO' 'DO CABRAL' 'HORTO'\n",
      " 'SEGURANÇA DO LAR' 'ILHA DO BOI' 'FRADINHOS' 'NAZARETH' 'AEROPORTO'\n",
      " 'ILHAS OCEÂNICAS DE TRINDADE' 'PARQUE INDUSTRIAL']\n",
      "\n",
      "Number of neighbourhoods - 81 \n",
      "\n",
      "The overall probability of a no show is 0.20193255946510807\n",
      "                                 No     Yes   Total  Probability of no-show\n",
      "Neighbourhood                                                              \n",
      "JARDIM CAMBURI               6252.0  1465.0  7717.0                0.189841\n",
      "MARIA ORTIZ                  4586.0  1219.0  5805.0                0.209991\n",
      "RESISTÊNCIA                  3525.0   906.0  4431.0                0.204469\n",
      "JARDIM DA PENHA              3246.0   631.0  3877.0                0.162755\n",
      "ITARARÉ                      2591.0   923.0  3514.0                0.262664\n",
      "...                             ...     ...     ...                     ...\n",
      "ILHA DO BOI                    32.0     3.0    35.0                0.085714\n",
      "ILHA DO FRADE                   8.0     2.0    10.0                0.200000\n",
      "AEROPORTO                       7.0     1.0     8.0                0.125000\n",
      "ILHAS OCEÂNICAS DE TRINDADE     0.0     2.0     2.0                1.000000\n",
      "PARQUE INDUSTRIAL               1.0     0.0     1.0                0.000000\n",
      "\n",
      "[81 rows x 4 columns]\n"
     ]
    }
   ],
   "source": [
    "neigh_size = df['Neighbourhood'].unique().size\n",
    "neighbourhoods = df['Neighbourhood'].unique()\n",
    "print(df['Neighbourhood'].unique())\n",
    "print(f'\\nNumber of neighbourhoods - {neigh_size} \\n')\n",
    "print(f'The overall probability of a no show is {noshow_prob}')\n",
    "\n",
    "df_neigh = pd.concat([df.groupby('Neighbourhood')['No'].sum(), df.groupby('Neighbourhood')['Yes'].sum()], axis=1)\n",
    "df_neigh['Total'] = df_neigh.sum(axis=1)\n",
    "df_neigh['Probability of no-show'] = df_neigh['Yes'] / df_neigh['Total']\n",
    "df_neigh.sort_values('Total', ascending=False, inplace=True)\n",
    "print(df_neigh)"
   ]
  },
  {
   "cell_type": "code",
   "execution_count": 13,
   "metadata": {},
   "outputs": [
    {
     "name": "stdout",
     "output_type": "stream",
     "text": [
      "The number of districts with sample size above our threshold of 50 is -\n",
      "76\n",
      "The number of districts with sample size below our threshold of 50 is -\n",
      "5\n",
      "The number of rejected samples is then\n",
      "56.0\n"
     ]
    }
   ],
   "source": [
    "small_samp_size = 50\n",
    "\n",
    "print(f'The number of districts with sample size above our threshold of {small_samp_size} is -')\n",
    "print(df_neigh[df_neigh['Total'] >= small_samp_size].shape[0])\n",
    "print(f'The number of districts with sample size below our threshold of {small_samp_size} is -')\n",
    "print(df_neigh[df_neigh['Total'] < small_samp_size].shape[0])\n",
    "print('The number of rejected samples is then')\n",
    "print(df_neigh[df_neigh['Total'] < small_samp_size]['Total'].sum())\n",
    "\n",
    "df_neigh = df_neigh[df_neigh['Total'] >= small_samp_size]"
   ]
  },
  {
   "cell_type": "markdown",
   "metadata": {},
   "source": [
    "The smallest expected frequency should be above 5. At 20% chance of no-show there should be at least 25 from each district to expect 5 no-shows. We will double this just to be safe. The number of districts cut is not large at onle 5 and the number of samples wihtout neighbourhood information is only 56"
   ]
  },
  {
   "cell_type": "code",
   "execution_count": 14,
   "metadata": {},
   "outputs": [
    {
     "name": "stdout",
     "output_type": "stream",
     "text": [
      "Chi squared value is 480.5172010361685 and the p-value is 1.8612890706511266e-60\n"
     ]
    }
   ],
   "source": [
    "neigh_vals = df_neigh.loc[:, ['Yes', 'No']].values\n",
    "chi2_stat, p_val, dof, ex = stats.chi2_contingency(neigh_vals)\n",
    "print(f'Chi squared value is {chi2_stat} and the p-value is {p_val}')"
   ]
  },
  {
   "cell_type": "code",
   "execution_count": 15,
   "metadata": {},
   "outputs": [
    {
     "name": "stdout",
     "output_type": "stream",
     "text": [
      "                       No     Yes  Probability of no-show       Exp_no  \\\n",
      "Neighbourhood                                                            \n",
      "JARDIM CAMBURI     6252.0  1465.0                0.189841  6158.686439   \n",
      "MARIA ORTIZ        4586.0  1219.0                0.209991  4632.781492   \n",
      "RESISTÊNCIA        3525.0   906.0                0.204469  3536.236829   \n",
      "JARDIM DA PENHA    3246.0   631.0                0.162755  3094.107467   \n",
      "ITARARÉ            2591.0   923.0                0.262664  2804.408986   \n",
      "...                   ...     ...                     ...          ...   \n",
      "UNIVERSITÁRIO       120.0    32.0                0.210526   121.306251   \n",
      "SEGURANÇA DO LAR    117.0    28.0                0.193103   115.719779   \n",
      "NAZARETH            106.0    29.0                0.214815   107.739104   \n",
      "MORADA DE CAMBURI    80.0    16.0                0.166667    76.614474   \n",
      "PONTAL DE CAMBURI    57.0    12.0                0.173913    55.066653   \n",
      "\n",
      "                       Exp_yes  \n",
      "Neighbourhood                   \n",
      "JARDIM CAMBURI     1558.313561  \n",
      "MARIA ORTIZ        1172.218508  \n",
      "RESISTÊNCIA         894.763171  \n",
      "JARDIM DA PENHA     782.892533  \n",
      "ITARARÉ             709.591014  \n",
      "...                        ...  \n",
      "UNIVERSITÁRIO        30.693749  \n",
      "SEGURANÇA DO LAR     29.280221  \n",
      "NAZARETH             27.260896  \n",
      "MORADA DE CAMBURI    19.385526  \n",
      "PONTAL DE CAMBURI    13.933347  \n",
      "\n",
      "[76 rows x 5 columns]\n"
     ]
    }
   ],
   "source": [
    "df_neigh['Exp_yes'] = df_neigh['Total'] * noshow_prob\n",
    "df_neigh['Exp_no'] = df_neigh['Total'] - df_neigh['Exp_yes']\n",
    "columns_titles = ['No', 'Yes', 'Probability of no-show', 'Exp_no','Exp_yes']\n",
    "df_neigh=df_neigh.reindex(columns=columns_titles)\n",
    "\n",
    "print(df_neigh)"
   ]
  },
  {
   "cell_type": "code",
   "execution_count": 16,
   "metadata": {},
   "outputs": [],
   "source": [
    "def chi_squared(row):\n",
    "    observed = row[['No', 'Yes']].values\n",
    "    expected = row[['Exp_no', 'Exp_yes']].values\n",
    "    \n",
    "    chi = expected - observed\n",
    "    chi = chi * chi\n",
    "    chi = chi / expected\n",
    "    chi = np.sum(chi)\n",
    "    \n",
    "    pval = chi2.sf(chi,1)\n",
    "    \n",
    "    return pd.Series({'chi': chi, 'pvalue': pval})\n",
    "\n",
    "chi_results = df_neigh.apply(chi_squared, axis = 1)"
   ]
  },
  {
   "cell_type": "code",
   "execution_count": 17,
   "metadata": {},
   "outputs": [
    {
     "name": "stdout",
     "output_type": "stream",
     "text": [
      "                         chi        pvalue\n",
      "Neighbourhood                             \n",
      "JARDIM CAMBURI      7.001564  8.143852e-03\n",
      "MARIA ORTIZ         2.339376  1.261401e-01\n",
      "RESISTÊNCIA         0.176823  6.741175e-01\n",
      "JARDIM DA PENHA    36.925901  1.227050e-09\n",
      "ITARARÉ            80.422525  3.023291e-19\n",
      "...                      ...           ...\n",
      "UNIVERSITÁRIO       0.069657  7.918371e-01\n",
      "SEGURANÇA DO LAR    0.070138  7.911353e-01\n",
      "NAZARETH            0.139018  7.092590e-01\n",
      "MORADA DE CAMBURI   0.740858  3.893861e-01\n",
      "PONTAL DE CAMBURI   0.336143  5.620639e-01\n",
      "\n",
      "[76 rows x 2 columns]\n",
      "['JARDIM CAMBURI', 'JARDIM DA PENHA', 'ITARARÉ', 'TABUAZEIRO', 'SANTA MARTHA', 'JESUS DE NAZARETH', 'SANTO ANTÔNIO', 'CARATOÍRA', 'JABOUR', 'ILHA DO PRÍNCIPE', 'NOVA PALESTINA', 'ANDORINHAS', 'GURIGICA', 'MARUÍPE', 'FORTE SÃO JOÃO', 'REDENÇÃO', 'JOANA D´ARC', 'CONSOLAÇÃO', 'PRAIA DO SUÁ', 'SANTOS DUMONT', 'VILA RUBIM', 'DO QUADRO', 'REPÚBLICA', 'MATA DA PRAIA', 'DO CABRAL', 'SANTA CLARA', 'SOLON BORGES', 'SANTA CECÍLIA', 'MÁRIO CYPRESTE', 'DE LOURDES']\n",
      "Number of kept neighbourhoods with p-val under 0.05 is - 30\n",
      "Number of kept neighbourhoods with p-val under 0.01 is - 22\n"
     ]
    }
   ],
   "source": [
    "print(chi_results)\n",
    "\n",
    "neigh_keep = chi_results[chi_results['pvalue'] <= 0.05].index.tolist()\n",
    "print(neigh_keep)\n",
    "print('Number of kept neighbourhoods with p-val under 0.05 is -', len(neigh_keep))\n",
    "\n",
    "neigh_keep2 = chi_results[chi_results['pvalue'] <= 0.01].index.tolist()\n",
    "print('Number of kept neighbourhoods with p-val under 0.01 is -', len(neigh_keep2))"
   ]
  },
  {
   "cell_type": "markdown",
   "metadata": {},
   "source": [
    "We are left with 30 neighbourhoods which have a reasonable sample size and have a statistical significance (p-value under 0.05. There are 22 with the more stringent p-value under 0.01 requiremnet. We may return to this if we find we have too many features."
   ]
  },
  {
   "cell_type": "code",
   "execution_count": 18,
   "metadata": {},
   "outputs": [
    {
     "data": {
      "text/html": [
       "<div>\n",
       "<style scoped>\n",
       "    .dataframe tbody tr th:only-of-type {\n",
       "        vertical-align: middle;\n",
       "    }\n",
       "\n",
       "    .dataframe tbody tr th {\n",
       "        vertical-align: top;\n",
       "    }\n",
       "\n",
       "    .dataframe thead th {\n",
       "        text-align: right;\n",
       "    }\n",
       "</style>\n",
       "<table border=\"1\" class=\"dataframe\">\n",
       "  <thead>\n",
       "    <tr style=\"text-align: right;\">\n",
       "      <th></th>\n",
       "      <th>JARDIM CAMBURI</th>\n",
       "      <th>JARDIM DA PENHA</th>\n",
       "      <th>ITARARÉ</th>\n",
       "      <th>TABUAZEIRO</th>\n",
       "      <th>SANTA MARTHA</th>\n",
       "      <th>JESUS DE NAZARETH</th>\n",
       "      <th>SANTO ANTÔNIO</th>\n",
       "      <th>CARATOÍRA</th>\n",
       "      <th>JABOUR</th>\n",
       "      <th>ILHA DO PRÍNCIPE</th>\n",
       "      <th>...</th>\n",
       "      <th>VILA RUBIM</th>\n",
       "      <th>DO QUADRO</th>\n",
       "      <th>REPÚBLICA</th>\n",
       "      <th>MATA DA PRAIA</th>\n",
       "      <th>DO CABRAL</th>\n",
       "      <th>SANTA CLARA</th>\n",
       "      <th>SOLON BORGES</th>\n",
       "      <th>SANTA CECÍLIA</th>\n",
       "      <th>MÁRIO CYPRESTE</th>\n",
       "      <th>DE LOURDES</th>\n",
       "    </tr>\n",
       "    <tr>\n",
       "      <th>AppointmentID</th>\n",
       "      <th></th>\n",
       "      <th></th>\n",
       "      <th></th>\n",
       "      <th></th>\n",
       "      <th></th>\n",
       "      <th></th>\n",
       "      <th></th>\n",
       "      <th></th>\n",
       "      <th></th>\n",
       "      <th></th>\n",
       "      <th></th>\n",
       "      <th></th>\n",
       "      <th></th>\n",
       "      <th></th>\n",
       "      <th></th>\n",
       "      <th></th>\n",
       "      <th></th>\n",
       "      <th></th>\n",
       "      <th></th>\n",
       "      <th></th>\n",
       "      <th></th>\n",
       "    </tr>\n",
       "  </thead>\n",
       "  <tbody>\n",
       "    <tr>\n",
       "      <th>5642903</th>\n",
       "      <td>0</td>\n",
       "      <td>1</td>\n",
       "      <td>0</td>\n",
       "      <td>0</td>\n",
       "      <td>0</td>\n",
       "      <td>0</td>\n",
       "      <td>0</td>\n",
       "      <td>0</td>\n",
       "      <td>0</td>\n",
       "      <td>0</td>\n",
       "      <td>...</td>\n",
       "      <td>0</td>\n",
       "      <td>0</td>\n",
       "      <td>0</td>\n",
       "      <td>0</td>\n",
       "      <td>0</td>\n",
       "      <td>0</td>\n",
       "      <td>0</td>\n",
       "      <td>0</td>\n",
       "      <td>0</td>\n",
       "      <td>0</td>\n",
       "    </tr>\n",
       "    <tr>\n",
       "      <th>5642503</th>\n",
       "      <td>0</td>\n",
       "      <td>1</td>\n",
       "      <td>0</td>\n",
       "      <td>0</td>\n",
       "      <td>0</td>\n",
       "      <td>0</td>\n",
       "      <td>0</td>\n",
       "      <td>0</td>\n",
       "      <td>0</td>\n",
       "      <td>0</td>\n",
       "      <td>...</td>\n",
       "      <td>0</td>\n",
       "      <td>0</td>\n",
       "      <td>0</td>\n",
       "      <td>0</td>\n",
       "      <td>0</td>\n",
       "      <td>0</td>\n",
       "      <td>0</td>\n",
       "      <td>0</td>\n",
       "      <td>0</td>\n",
       "      <td>0</td>\n",
       "    </tr>\n",
       "    <tr>\n",
       "      <th>5642549</th>\n",
       "      <td>0</td>\n",
       "      <td>0</td>\n",
       "      <td>0</td>\n",
       "      <td>0</td>\n",
       "      <td>0</td>\n",
       "      <td>0</td>\n",
       "      <td>0</td>\n",
       "      <td>0</td>\n",
       "      <td>0</td>\n",
       "      <td>0</td>\n",
       "      <td>...</td>\n",
       "      <td>0</td>\n",
       "      <td>0</td>\n",
       "      <td>0</td>\n",
       "      <td>1</td>\n",
       "      <td>0</td>\n",
       "      <td>0</td>\n",
       "      <td>0</td>\n",
       "      <td>0</td>\n",
       "      <td>0</td>\n",
       "      <td>0</td>\n",
       "    </tr>\n",
       "    <tr>\n",
       "      <th>5642828</th>\n",
       "      <td>0</td>\n",
       "      <td>0</td>\n",
       "      <td>0</td>\n",
       "      <td>0</td>\n",
       "      <td>0</td>\n",
       "      <td>0</td>\n",
       "      <td>0</td>\n",
       "      <td>0</td>\n",
       "      <td>0</td>\n",
       "      <td>0</td>\n",
       "      <td>...</td>\n",
       "      <td>0</td>\n",
       "      <td>0</td>\n",
       "      <td>0</td>\n",
       "      <td>0</td>\n",
       "      <td>0</td>\n",
       "      <td>0</td>\n",
       "      <td>0</td>\n",
       "      <td>0</td>\n",
       "      <td>0</td>\n",
       "      <td>0</td>\n",
       "    </tr>\n",
       "    <tr>\n",
       "      <th>5642494</th>\n",
       "      <td>0</td>\n",
       "      <td>1</td>\n",
       "      <td>0</td>\n",
       "      <td>0</td>\n",
       "      <td>0</td>\n",
       "      <td>0</td>\n",
       "      <td>0</td>\n",
       "      <td>0</td>\n",
       "      <td>0</td>\n",
       "      <td>0</td>\n",
       "      <td>...</td>\n",
       "      <td>0</td>\n",
       "      <td>0</td>\n",
       "      <td>0</td>\n",
       "      <td>0</td>\n",
       "      <td>0</td>\n",
       "      <td>0</td>\n",
       "      <td>0</td>\n",
       "      <td>0</td>\n",
       "      <td>0</td>\n",
       "      <td>0</td>\n",
       "    </tr>\n",
       "  </tbody>\n",
       "</table>\n",
       "<p>5 rows × 30 columns</p>\n",
       "</div>"
      ],
      "text/plain": [
       "               JARDIM CAMBURI  JARDIM DA PENHA  ITARARÉ  TABUAZEIRO  \\\n",
       "AppointmentID                                                         \n",
       "5642903                     0                1        0           0   \n",
       "5642503                     0                1        0           0   \n",
       "5642549                     0                0        0           0   \n",
       "5642828                     0                0        0           0   \n",
       "5642494                     0                1        0           0   \n",
       "\n",
       "               SANTA MARTHA  JESUS DE NAZARETH  SANTO ANTÔNIO  CARATOÍRA  \\\n",
       "AppointmentID                                                              \n",
       "5642903                   0                  0              0          0   \n",
       "5642503                   0                  0              0          0   \n",
       "5642549                   0                  0              0          0   \n",
       "5642828                   0                  0              0          0   \n",
       "5642494                   0                  0              0          0   \n",
       "\n",
       "               JABOUR  ILHA DO PRÍNCIPE  ...  VILA RUBIM  DO QUADRO  \\\n",
       "AppointmentID                            ...                          \n",
       "5642903             0                 0  ...           0          0   \n",
       "5642503             0                 0  ...           0          0   \n",
       "5642549             0                 0  ...           0          0   \n",
       "5642828             0                 0  ...           0          0   \n",
       "5642494             0                 0  ...           0          0   \n",
       "\n",
       "               REPÚBLICA  MATA DA PRAIA  DO CABRAL  SANTA CLARA  SOLON BORGES  \\\n",
       "AppointmentID                                                                   \n",
       "5642903                0              0          0            0             0   \n",
       "5642503                0              0          0            0             0   \n",
       "5642549                0              1          0            0             0   \n",
       "5642828                0              0          0            0             0   \n",
       "5642494                0              0          0            0             0   \n",
       "\n",
       "               SANTA CECÍLIA  MÁRIO CYPRESTE  DE LOURDES  \n",
       "AppointmentID                                             \n",
       "5642903                    0               0           0  \n",
       "5642503                    0               0           0  \n",
       "5642549                    0               0           0  \n",
       "5642828                    0               0           0  \n",
       "5642494                    0               0           0  \n",
       "\n",
       "[5 rows x 30 columns]"
      ]
     },
     "execution_count": 18,
     "metadata": {},
     "output_type": "execute_result"
    }
   ],
   "source": [
    "dum_neigh = pd.get_dummies(df['Neighbourhood'])\n",
    "dum_neigh = dum_neigh[neigh_keep]\n",
    "dum_neigh.head()\n",
    "\n",
    "#df = pd.concat((df, dum_neigh), axis = 1)\n",
    "#df.drop('Neighbourhood', axis=1, inplace=True)\n",
    "#print(df.info())"
   ]
  },
  {
   "cell_type": "markdown",
   "metadata": {},
   "source": [
    "### Appointment dates and time"
   ]
  },
  {
   "cell_type": "code",
   "execution_count": 19,
   "metadata": {},
   "outputs": [
    {
     "data": {
      "image/png": "[encoded data removed]",
      "text/plain": [
       "<Figure size 432x288 with 1 Axes>"
      ]
     },
     "metadata": {
      "needs_background": "light"
     },
     "output_type": "display_data"
    },
    {
     "data": {
      "image/png": "[encoded data removed]",
      "text/plain": [
       "<Figure size 432x288 with 1 Axes>"
      ]
     },
     "metadata": {
      "needs_background": "light"
     },
     "output_type": "display_data"
    },
    {
     "name": "stdout",
     "output_type": "stream",
     "text": [
      "count    110526.000000\n",
      "mean         10.183794\n",
      "std          15.255034\n",
      "min          -6.000000\n",
      "25%           0.000000\n",
      "50%           4.000000\n",
      "75%          15.000000\n",
      "max         179.000000\n",
      "Name: days_wait, dtype: float64\n"
     ]
    }
   ],
   "source": [
    "df['AppointMade'] = df['AppointMade'].values.astype('datetime64[s]')\n",
    "df['AppointMadeD'] = df['AppointMade'].values.astype('datetime64[D]')\n",
    "df['AppointFor'] = df['AppointFor'].values.astype('datetime64[D]')\n",
    "\n",
    "df.groupby(df[\"AppointMade\"].dt.week)[\"AppointMade\"].count().plot(kind=\"bar\", color='b', alpha=0.3)\n",
    "plt.show()\n",
    "df.groupby(df[\"AppointFor\"].dt.week)[\"AppointFor\"].count().plot(kind=\"bar\", color='r', alpha=0.3)\n",
    "plt.show()\n",
    "\n",
    "df['days_wait'] = (df['AppointFor'] - df['AppointMadeD'])  / np.timedelta64(1, 'D')\n",
    "df['days_wait'] = df['days_wait'].astype(int)\n",
    "print(df['days_wait'].describe())"
   ]
  },
  {
   "cell_type": "code",
   "execution_count": 20,
   "metadata": {},
   "outputs": [
    {
     "name": "stdout",
     "output_type": "stream",
     "text": [
      "5\n"
     ]
    },
    {
     "data": {
      "image/png": "[encoded data removed]",
      "text/plain": [
       "<Figure size 432x288 with 1 Axes>"
      ]
     },
     "metadata": {
      "needs_background": "light"
     },
     "output_type": "display_data"
    },
    {
     "data": {
      "image/png": "[encoded data removed]",
      "text/plain": [
       "<Figure size 432x288 with 1 Axes>"
      ]
     },
     "metadata": {
      "needs_background": "light"
     },
     "output_type": "display_data"
    }
   ],
   "source": [
    "print(df[df['days_wait'].astype(int) < 0].shape[0])\n",
    "df = df[df['days_wait'] >= 0]\n",
    "\n",
    "df_days = pd.concat([df.groupby('days_wait')['No'].sum(), df.groupby('days_wait')['Yes'].sum()], axis=1)\n",
    "df_days['Total'] = df_days['No'] + df_days['Yes']\n",
    "df_days['Probability of no-show'] = df_days['Yes'] / df_days['Total']\n",
    "df_days.reset_index(inplace=True)\n",
    "\n",
    "df_days.plot(kind='scatter', x='days_wait', y='Probability of no-show')\n",
    "plt.axhline(noshow_prob, c='r', label='Overall probability')\n",
    "plt.legend()\n",
    "plt.show()\n",
    "\n",
    "#sns.barplot(data=df_days[df_days['days_wait'] > 75], x='days_wait', y='Total')\n",
    "#plt.xticks(fontsize=6)\n",
    "sns.lineplot(data=df_days, x='days_wait', y='Total')\n",
    "plt.show()"
   ]
  },
  {
   "cell_type": "markdown",
   "metadata": {},
   "source": [
    "There seems to be a polynomial relationship here but it is made not clear by the high wait time data points as there are not enough samples at these points. We will combine all values above 75 at 75.\n",
    "\n",
    "We also see that 0 days has a clearly different relationship than the rest and so this deserves its own weighting. Giving instances a 1 for same day appointment and 0 for not same day will introduce a bias for the same day instances."
   ]
  },
  {
   "cell_type": "code",
   "execution_count": 21,
   "metadata": {},
   "outputs": [
    {
     "data": {
      "image/png": "[encoded data removed]",
      "text/plain": [
       "<Figure size 432x288 with 1 Axes>"
      ]
     },
     "metadata": {
      "needs_background": "light"
     },
     "output_type": "display_data"
    }
   ],
   "source": [
    "df['same_day'] = np.NaN\n",
    "df.loc[df['days_wait'] == 0, 'same_day'] = 1\n",
    "df['same_day'].fillna(0, inplace=True)\n",
    "\n",
    "max_days = 75\n",
    "df['days_wait'][df['days_wait'] >= max_days] = max_days\n",
    "\n",
    "df_days = pd.concat([df.groupby('days_wait')['No'].sum(), df.groupby('days_wait')['Yes'].sum()], axis=1)\n",
    "df_days['Total'] = df_days['No'] + df_days['Yes']\n",
    "df_days['Probability of no-show'] = df_days['Yes'] / df_days['Total']\n",
    "df_days.reset_index(inplace=True)\n",
    "\n",
    "df_days.plot(kind='scatter', x='days_wait', y='Probability of no-show')\n",
    "plt.axhline(noshow_prob, c='r', label='Overall probability')\n",
    "plt.legend()\n",
    "plt.show()"
   ]
  },
  {
   "cell_type": "code",
   "execution_count": 22,
   "metadata": {},
   "outputs": [
    {
     "data": {
      "image/png": "[encoded data removed]",
      "text/plain": [
       "<Figure size 432x288 with 1 Axes>"
      ]
     },
     "metadata": {
      "needs_background": "light"
     },
     "output_type": "display_data"
    }
   ],
   "source": [
    "df['hour_made'] = df['AppointMade'].dt.hour\n",
    "\n",
    "df_hour = pd.concat([df.groupby('hour_made')['No'].sum(), df.groupby('hour_made')['Yes'].sum()], axis=1)\n",
    "df_hour['Total'] = df_days['No'] + df_hour['Yes']\n",
    "df_hour['Probability of no-show'] = df_hour['Yes'] / df_hour['Total']\n",
    "df_hour.reset_index(inplace=True)\n",
    "\n",
    "df_hour.plot(kind='scatter', x='hour_made', y='Probability of no-show')\n",
    "plt.axhline(noshow_prob, c='r', label='Overall probability')\n",
    "plt.legend()\n",
    "plt.show()"
   ]
  },
  {
   "cell_type": "markdown",
   "metadata": {},
   "source": [
    "So there is a relationship here and it will certainly need polynomial terms to capture it. There is a clear correlation with the work day here, with even a dip during lunch time. This suggests to me that people who make appointments during work hours are probably less likely to be working and could therefore be a little more unreliable. This might mean we need to treat weekdays and weekends separately."
   ]
  },
  {
   "cell_type": "code",
   "execution_count": 23,
   "metadata": {},
   "outputs": [
    {
     "name": "stdout",
     "output_type": "stream",
     "text": [
      "         Yes       No  Probability of no-show\n",
      "Mon   4561.0  18523.0                0.197583\n",
      "Tue   5290.0  20877.0                0.202163\n",
      "Wed   4876.0  19383.0                0.200998\n",
      "Thur  3699.0  14373.0                0.204681\n",
      "Fri   3887.0  15028.0                0.205498\n",
      "Sat      1.0     23.0                0.041667\n"
     ]
    },
    {
     "data": {
      "image/png": "[encoded data removed]",
      "text/plain": [
       "<Figure size 432x288 with 1 Axes>"
      ]
     },
     "metadata": {
      "needs_background": "light"
     },
     "output_type": "display_data"
    },
    {
     "name": "stdout",
     "output_type": "stream",
     "text": [
      "         Yes       No  Probability of no-show\n",
      "Mon   4689.0  18024.0                0.206446\n",
      "Tue   5150.0  20488.0                0.200874\n",
      "Wed   5092.0  20774.0                0.196861\n",
      "Thur  3337.0  13909.0                0.193494\n",
      "Fri   4037.0  14982.0                0.212261\n",
      "Sat      9.0     30.0                0.230769\n"
     ]
    },
    {
     "data": {
      "image/png": "[encoded data removed]",
      "text/plain": [
       "<Figure size 432x288 with 1 Axes>"
      ]
     },
     "metadata": {
      "needs_background": "light"
     },
     "output_type": "display_data"
    }
   ],
   "source": [
    "week_days = ['Mon', 'Tue', 'Wed', 'Thur', 'Fri', 'Sat']\n",
    "\n",
    "df['dow_made'] = df['AppointMade'].dt.dayofweek\n",
    "df_dow = pd.concat((df.groupby('dow_made')['Yes'].sum(), df.groupby('dow_made')['No'].sum()), axis=1)\n",
    "df_dow['Probability of no-show'] = df_dow['Yes'] / (df_dow['Yes'] + df_dow['No'])\n",
    "df_dow.index = week_days\n",
    "\n",
    "print(df_dow.head(7))\n",
    "df_dow['Probability of no-show'].plot(kind='bar')\n",
    "plt.axhline(noshow_prob, c='r', label='Overall probability')\n",
    "plt.show()\n",
    "\n",
    "df['dow_for'] = df['AppointFor'].dt.dayofweek\n",
    "df_dowf = pd.concat((df.groupby('dow_for')['Yes'].sum(), df.groupby('dow_for')['No'].sum()), axis=1)\n",
    "df_dowf['Probability of no-show'] = df_dowf['Yes'] / (df_dowf['Yes'] + df_dowf['No'])\n",
    "df_dowf.index = week_days\n",
    "\n",
    "print(df_dowf.head(7))\n",
    "df_dowf['Probability of no-show'].plot(kind='bar')\n",
    "plt.axhline(noshow_prob, c='r', label='Overall probability')\n",
    "plt.show()"
   ]
  },
  {
   "cell_type": "markdown",
   "metadata": {},
   "source": [
    "We have so few weekend bookings and appointments that we don't need to worry about it. This means time of day will entirely capture whether it is during work time or not and we don't need to separate the time for weekend and weekday."
   ]
  },
  {
   "cell_type": "markdown",
   "metadata": {},
   "source": [
    "### Individual patient records"
   ]
  },
  {
   "cell_type": "code",
   "execution_count": 24,
   "metadata": {},
   "outputs": [],
   "source": [
    "'''\n",
    "def count_missed_apts_before_now(row, df):\n",
    "    subdf = df.query(\"AppointFor<@row.AppointMade and\\\n",
    "                     `No-show`=='Yes' and PatientId==@row.PatientId\")\n",
    "    return len(subdf)\n",
    "\n",
    "df.sort_values(by='AppointMade', inplace=True)\n",
    "# Calculating how many time the patient has made an appointment before\n",
    "df['book_count'] = df.groupby('PatientId').cumcount()\n",
    "# Calculating the number of times a patient has missed an appointment before making the current one\n",
    "t3 = time.time()\n",
    "df['miss_count'] = df.apply(count_missed_apts_before_now, axis=1, args = (df,))\n",
    "t4 = time.time()\n",
    "miss_count_t = t4-t3\n",
    "print(f'miss count column calculated in {miss_count_t}')\n",
    "\n",
    "df.drop(['PatientID', 'AppointMade'], inplace=True, axis=1)\n",
    "df.tail()\n",
    "'''\n",
    "\n",
    "df['book_count'] = 56\n",
    "df['miss_count'] = 33"
   ]
  },
  {
   "cell_type": "markdown",
   "metadata": {},
   "source": [
    "# Feature engineering\n",
    "\n",
    "Lets start by clearing out some columns that wont be used."
   ]
  },
  {
   "cell_type": "code",
   "execution_count": 25,
   "metadata": {},
   "outputs": [
    {
     "name": "stdout",
     "output_type": "stream",
     "text": [
      "                  PatientId         AppointMade AppointFor  Age  \\\n",
      "AppointmentID                                                     \n",
      "5642903        2.987250e+13 2016-04-29 18:38:08 2016-04-29   62   \n",
      "5642503        5.589978e+14 2016-04-29 16:08:27 2016-04-29   56   \n",
      "5642549        4.262962e+12 2016-04-29 16:19:04 2016-04-29   62   \n",
      "5642828        8.679512e+11 2016-04-29 17:29:31 2016-04-29    8   \n",
      "5642494        8.841186e+12 2016-04-29 16:07:23 2016-04-29   56   \n",
      "\n",
      "                   Neighbourhood  Handicap  SMS_received No-show  No  Yes  \\\n",
      "AppointmentID                                                               \n",
      "5642903          JARDIM DA PENHA         0             0      No   1    0   \n",
      "5642503          JARDIM DA PENHA         0             0      No   1    0   \n",
      "5642549            MATA DA PRAIA         0             0      No   1    0   \n",
      "5642828        PONTAL DE CAMBURI         0             0      No   1    0   \n",
      "5642494          JARDIM DA PENHA         0             0      No   1    0   \n",
      "\n",
      "              AppointMadeD  days_wait  same_day  hour_made  dow_made  dow_for  \\\n",
      "AppointmentID                                                                   \n",
      "5642903         2016-04-29          0       1.0         18         4        4   \n",
      "5642503         2016-04-29          0       1.0         16         4        4   \n",
      "5642549         2016-04-29          0       1.0         16         4        4   \n",
      "5642828         2016-04-29          0       1.0         17         4        4   \n",
      "5642494         2016-04-29          0       1.0         16         4        4   \n",
      "\n",
      "               book_count  miss_count  \n",
      "AppointmentID                          \n",
      "5642903                56          33  \n",
      "5642503                56          33  \n",
      "5642549                56          33  \n",
      "5642828                56          33  \n",
      "5642494                56          33  \n"
     ]
    }
   ],
   "source": [
    "df.drop(['dow_made', 'dow_for', 'No', 'No-show', \n",
    "         'Neighbourhood', 'AppointFor', 'AppointMade', \n",
    "         'PatientId', 'AppointMadeD', 'Handicap'], axis=1, inplace=True)\n",
    "\n"
   ]
  },
  {
   "cell_type": "code",
   "execution_count": 30,
   "metadata": {},
   "outputs": [
    {
     "name": "stdout",
     "output_type": "stream",
     "text": [
      "<class 'pandas.core.frame.DataFrame'>\n",
      "Int64Index: 110526 entries, 5030230 to 5790484\n",
      "Data columns (total 69 columns):\n",
      " #   Column             Non-Null Count   Dtype  \n",
      "---  ------             --------------   -----  \n",
      " 0   Age                110521 non-null  float64\n",
      " 1   Handicap           110521 non-null  float64\n",
      " 2   SMS_received       110521 non-null  float64\n",
      " 3   Yes                110521 non-null  float64\n",
      " 4   days_wait          110521 non-null  float64\n",
      " 5   same_day           110521 non-null  float64\n",
      " 6   hour_made          110521 non-null  float64\n",
      " 7   book_count         110521 non-null  float64\n",
      " 8   miss_count         110521 non-null  float64\n",
      " 9   JARDIM CAMBURI     110526 non-null  uint8  \n",
      " 10  JARDIM DA PENHA    110526 non-null  uint8  \n",
      " 11  ITARARÉ            110526 non-null  uint8  \n",
      " 12  TABUAZEIRO         110526 non-null  uint8  \n",
      " 13  SANTA MARTHA       110526 non-null  uint8  \n",
      " 14  JESUS DE NAZARETH  110526 non-null  uint8  \n",
      " 15  SANTO ANTÔNIO      110526 non-null  uint8  \n",
      " 16  CARATOÍRA          110526 non-null  uint8  \n",
      " 17  JABOUR             110526 non-null  uint8  \n",
      " 18  ILHA DO PRÍNCIPE   110526 non-null  uint8  \n",
      " 19  NOVA PALESTINA     110526 non-null  uint8  \n",
      " 20  ANDORINHAS         110526 non-null  uint8  \n",
      " 21  GURIGICA           110526 non-null  uint8  \n",
      " 22  MARUÍPE            110526 non-null  uint8  \n",
      " 23  FORTE SÃO JOÃO     110526 non-null  uint8  \n",
      " 24  REDENÇÃO           110526 non-null  uint8  \n",
      " 25  JOANA D´ARC        110526 non-null  uint8  \n",
      " 26  CONSOLAÇÃO         110526 non-null  uint8  \n",
      " 27  PRAIA DO SUÁ       110526 non-null  uint8  \n",
      " 28  SANTOS DUMONT      110526 non-null  uint8  \n",
      " 29  VILA RUBIM         110526 non-null  uint8  \n",
      " 30  DO QUADRO          110526 non-null  uint8  \n",
      " 31  REPÚBLICA          110526 non-null  uint8  \n",
      " 32  MATA DA PRAIA      110526 non-null  uint8  \n",
      " 33  DO CABRAL          110526 non-null  uint8  \n",
      " 34  SANTA CLARA        110526 non-null  uint8  \n",
      " 35  SOLON BORGES       110526 non-null  uint8  \n",
      " 36  SANTA CECÍLIA      110526 non-null  uint8  \n",
      " 37  MÁRIO CYPRESTE     110526 non-null  uint8  \n",
      " 38  DE LOURDES         110526 non-null  uint8  \n",
      " 39  JARDIM CAMBURI     110526 non-null  uint8  \n",
      " 40  JARDIM DA PENHA    110526 non-null  uint8  \n",
      " 41  ITARARÉ            110526 non-null  uint8  \n",
      " 42  TABUAZEIRO         110526 non-null  uint8  \n",
      " 43  SANTA MARTHA       110526 non-null  uint8  \n",
      " 44  JESUS DE NAZARETH  110526 non-null  uint8  \n",
      " 45  SANTO ANTÔNIO      110526 non-null  uint8  \n",
      " 46  CARATOÍRA          110526 non-null  uint8  \n",
      " 47  JABOUR             110526 non-null  uint8  \n",
      " 48  ILHA DO PRÍNCIPE   110526 non-null  uint8  \n",
      " 49  NOVA PALESTINA     110526 non-null  uint8  \n",
      " 50  ANDORINHAS         110526 non-null  uint8  \n",
      " 51  GURIGICA           110526 non-null  uint8  \n",
      " 52  MARUÍPE            110526 non-null  uint8  \n",
      " 53  FORTE SÃO JOÃO     110526 non-null  uint8  \n",
      " 54  REDENÇÃO           110526 non-null  uint8  \n",
      " 55  JOANA D´ARC        110526 non-null  uint8  \n",
      " 56  CONSOLAÇÃO         110526 non-null  uint8  \n",
      " 57  PRAIA DO SUÁ       110526 non-null  uint8  \n",
      " 58  SANTOS DUMONT      110526 non-null  uint8  \n",
      " 59  VILA RUBIM         110526 non-null  uint8  \n",
      " 60  DO QUADRO          110526 non-null  uint8  \n",
      " 61  REPÚBLICA          110526 non-null  uint8  \n",
      " 62  MATA DA PRAIA      110526 non-null  uint8  \n",
      " 63  DO CABRAL          110526 non-null  uint8  \n",
      " 64  SANTA CLARA        110526 non-null  uint8  \n",
      " 65  SOLON BORGES       110526 non-null  uint8  \n",
      " 66  SANTA CECÍLIA      110526 non-null  uint8  \n",
      " 67  MÁRIO CYPRESTE     110526 non-null  uint8  \n",
      " 68  DE LOURDES         110526 non-null  uint8  \n",
      "dtypes: float64(9), uint8(60)\n",
      "memory usage: 14.8 MB\n",
      "None\n"
     ]
    }
   ],
   "source": [
    "df = pd.concat((df, dum_neigh), axis = 1)\n",
    "#df.drop('Neighbourhood', axis=1, inplace=True)\n",
    "print(df.info())"
   ]
  },
  {
   "cell_type": "code",
   "execution_count": null,
   "metadata": {},
   "outputs": [],
   "source": []
  }
 ],
 "metadata": {
  "kernelspec": {
   "display_name": "Python 3",
   "language": "python",
   "name": "python3"
  },
  "language_info": {
   "codemirror_mode": {
    "name": "ipython",
    "version": 3
   },
   "file_extension": ".py",
   "mimetype": "text/x-python",
   "name": "python",
   "nbconvert_exporter": "python",
   "pygments_lexer": "ipython3",
   "version": "3.7.3"
  }
 },
 "nbformat": 4,
 "nbformat_minor": 4
}
